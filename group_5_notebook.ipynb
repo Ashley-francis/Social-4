{
 "cells": [
  {
   "cell_type": "markdown",
   "metadata": {},
   "source": [
    "The goal is to find correlations between how well students do in school and other factors. The data set we will be using is from portugese schools in the subject of math."
   ]
  },
  {
   "cell_type": "code",
   "execution_count": null,
   "metadata": {},
   "outputs": [],
   "source": [
    "import pandas as pd\n",
    "import numpy as np\n",
    "import matplotlib.pyplot as plt\n",
    "from sklearn.model_selection import train_test_split\n",
    "import statsmodels.api as sm                          # statsmodels logistic regression\n",
    "from sklearn.linear_model import LogisticRegression   # sklearn logistic regression\n",
    "from sklearn import metrics\n",
    "import seaborn as sn\n",
    "from sklearn import svm\n",
    "from sklearn.metrics import accuracy_score, roc_curve, roc_auc_score, confusion_matrix\n",
    "from sklearn.model_selection import GridSearchCV"
   ]
  },
  {
   "cell_type": "code",
   "execution_count": null,
   "metadata": {},
   "outputs": [],
   "source": [
    "math_df = pd.read_csv('student-mat.csv',delimiter = ';')\n",
    "math_df.head()"
   ]
  },
  {
   "cell_type": "code",
   "execution_count": null,
   "metadata": {},
   "outputs": [],
   "source": [
    "plt.scatter(math_df['age'],math_df['absences'],alpha = .2)"
   ]
  },
  {
   "cell_type": "code",
   "execution_count": null,
   "metadata": {},
   "outputs": [],
   "source": [
    "def data_scrubber(df,names):\n",
    "    \"\"\"\n",
    "    This function replaces the string values with numerical values.\n",
    "        Input: Dataframe. A list of column names to turn from strings into intergers.\n",
    "        Output: Dataframe, where the columns in the 'names' argument are now intergers.\n",
    "    \"\"\"\n",
    "    for name in names:\n",
    "        values = df[name].unique()\n",
    "        df[name].replace(values,range(0,values.size),inplace = True)\n",
    "    return df"
   ]
  },
  {
   "cell_type": "code",
   "execution_count": null,
   "metadata": {},
   "outputs": [],
   "source": [
    "numerical_df = math_df.copy()\n",
    "numerical_df.replace(['no','yes'], [0,1], inplace=True)  #Replace the boolean yes/no values.\n",
    "numerical_df = data_scrubber(numerical_df,['school','sex','address','famsize','Pstatus','Mjob','Fjob','reason','guardian'])"
   ]
  },
  {
   "cell_type": "code",
   "execution_count": null,
   "metadata": {},
   "outputs": [],
   "source": [
    "numerical_df.hist(figsize=(20,20))"
   ]
  },
  {
   "cell_type": "code",
   "execution_count": null,
   "metadata": {},
   "outputs": [],
   "source": []
  },
  {
   "cell_type": "code",
   "execution_count": null,
   "metadata": {},
   "outputs": [],
   "source": [
    "numerical_df['G3'] = numerical_df['G3']/20\n",
    "X = numerical_df[['school','sex','age','address','famsize','Pstatus','Medu','Fedu','Mjob','Fjob','reason','guardian','traveltime','studytime','failures','schoolsup','famsup','paid','activities','nursery','higher','internet','romantic','famrel','freetime','goout','Dalc','Walc','health','absences']]\n",
    "Y = numerical_df['G3']\n",
    "x_train,x_test,y_train,y_test = train_test_split(X,Y,train_size=0.75,test_size=0.25,random_state=1)\n",
    "logit_model = sm.Logit(y_train, sm.add_constant(x_train))\n",
    "result = logit_model.fit()\n",
    "print(result.summary())"
   ]
  },
  {
   "cell_type": "code",
   "execution_count": null,
   "metadata": {},
   "outputs": [],
   "source": [
    "correlation_df=numerical_df.corr()\n",
    "correlation_df"
   ]
  },
  {
   "cell_type": "code",
   "execution_count": null,
   "metadata": {},
   "outputs": [],
   "source": [
    "#Highest negative correlation: Failures\n",
    "plt.scatter(numerical_df[\"failures\"],numerical_df[\"G3\"])"
   ]
  },
  {
   "cell_type": "code",
   "execution_count": null,
   "metadata": {},
   "outputs": [],
   "source": [
    "#Highest positive correlation: Mother education\n",
    "plt.scatter(numerical_df[\"Medu\"],numerical_df[\"G3\"])"
   ]
  },
  {
   "cell_type": "code",
   "execution_count": null,
   "metadata": {},
   "outputs": [],
   "source": [
    "#finding quantiles for our data set for final grades \n",
    "print(numerical_df['G3'].quantile([0.25]))\n",
    "print(numerical_df['G3'].quantile([0.50]))\n",
    "print(numerical_df['G3'].quantile([0.75]))"
   ]
  },
  {
   "cell_type": "code",
   "execution_count": null,
   "metadata": {},
   "outputs": [],
   "source": [
    "#Changing the quantiles from their percentages to ints making it eaiser to classify\n",
    "numerical_df2=numerical_df.copy()\n",
    "numerical_df[numerical_df['G3']<0.4]=1\n",
    "numerical_df[numerical_df['G3']<=0.55]=2\n",
    "numerical_df[numerical_df['G3']<=0.7]=3\n",
    "numerical_df[numerical_df['G3']<=0.99]=4\n",
    "#getting rid of first and second semester grades because we don't use them\n",
    "numerical_df=numerical_df.drop(columns=['G1','G2'])\n"
   ]
  },
  {
   "cell_type": "code",
   "execution_count": null,
   "metadata": {},
   "outputs": [],
   "source": [
    "#train test split\n",
    "train_features, test_features, train_labels, test_labels=train_test_split(numerical_df.drop(columns=['G3']),numerical_df['G3'])"
   ]
  },
  {
   "cell_type": "code",
   "execution_count": null,
   "metadata": {},
   "outputs": [],
   "source": [
    "model = svm.SVC(C=10,kernel='linear')\n",
    "model_fit=model.fit(train_features,train_labels)\n",
    "predict=model_fit.predict(test_features)\n",
    "print(accuracy_score(predict, test_labels))\n",
    "print(confusion_matrix(test_labels, predict))\n",
    "\n"
   ]
  },
  {
   "cell_type": "code",
   "execution_count": null,
   "metadata": {},
   "outputs": [],
   "source": [
    "#too easy, going to try to calculate final percentage instead of just quantile"
   ]
  },
  {
   "cell_type": "code",
   "execution_count": null,
   "metadata": {},
   "outputs": [],
   "source": [
    "numerical_df2=numerical_df2.drop(columns=['G1','G2'])"
   ]
  },
  {
   "cell_type": "code",
   "execution_count": null,
   "metadata": {},
   "outputs": [],
   "source": [
    "numerical_df2['G3']=numerical_df2['G3']*100\n"
   ]
  },
  {
   "cell_type": "code",
   "execution_count": null,
   "metadata": {},
   "outputs": [],
   "source": [
    "train_features, test_features, train_labels, test_labels=train_test_split(numerical_df2.drop(columns=['G3']),numerical_df2['G3'])"
   ]
  },
  {
   "cell_type": "code",
   "execution_count": null,
   "metadata": {},
   "outputs": [],
   "source": [
    "model = svm.SVC(C=10,kernel='linear')\n",
    "model_fit=model.fit(train_features,train_labels.astype(int))\n",
    "predict=model_fit.predict(test_features)\n",
    "print(accuracy_score(predict, test_labels.astype(int)))\n"
   ]
  },
  {
   "cell_type": "code",
   "execution_count": null,
   "metadata": {},
   "outputs": [],
   "source": [
    "#features with p values under 0.3\n",
    "new_df=numerical_df2[['G3','failures','famsize','schoolsup','romantic']]"
   ]
  },
  {
   "cell_type": "code",
   "execution_count": null,
   "metadata": {},
   "outputs": [],
   "source": [
    "train_features, test_features, train_labels, test_labels=train_test_split(new_df.drop(columns=['G3']),new_df['G3'])"
   ]
  },
  {
   "cell_type": "code",
   "execution_count": null,
   "metadata": {},
   "outputs": [],
   "source": [
    "model = svm.SVC(C=10,kernel='linear')\n",
    "model_fit=model.fit(train_features,train_labels.astype(int))\n",
    "predict=model_fit.predict(test_features)\n",
    "print(accuracy_score(predict, test_labels.astype(int)))\n"
   ]
  },
  {
   "cell_type": "code",
   "execution_count": null,
   "metadata": {},
   "outputs": [],
   "source": [
    "param_grid = {'C': [1e3, 5e3, 1e4, 5e4, 1e5],\n",
    "              'gamma': [0.0001, 0.0005, 0.001, 0.005, 0.01, 0.1], }\n",
    "# make a classifier by searching over a classifier and the parameter grid\n",
    "clf = GridSearchCV(svm.SVC(kernel='linear', class_weight='balanced'), param_grid)\n",
    "\n",
    "# we have a \"good\" classifier (according to GridSearchCV), how's it look\n",
    "clf = clf.fit(train_features, train_labels.astype(int))\n",
    "print(\"Best estimator found by grid search:\")\n",
    "print(clf.best_estimator_)\n",
    "\n"
   ]
  },
  {
   "cell_type": "code",
   "execution_count": null,
   "metadata": {},
   "outputs": [],
   "source": [
    "train_features, test_features, train_labels, test_labels=train_test_split(numerical_df2.drop(columns=['G3']),numerical_df2['G3'])"
   ]
  },
  {
   "cell_type": "code",
   "execution_count": null,
   "metadata": {},
   "outputs": [],
   "source": [
    "model = svm.SVC(C=1000,kernel='linear',gamma=0.0001,class_weight='balanced')\n",
    "model_fit=model.fit(train_features,train_labels.astype(int))\n",
    "predict=model_fit.predict(test_features)\n",
    "print(accuracy_score(predict, test_labels.astype(int)))"
   ]
  },
  {
   "cell_type": "code",
   "execution_count": null,
   "metadata": {},
   "outputs": [],
   "source": []
  }
 ],
 "metadata": {
  "kernelspec": {
   "display_name": "Python 3",
   "language": "python",
   "name": "python3"
  },
  "language_info": {
   "codemirror_mode": {
    "name": "ipython",
    "version": 3
   },
   "file_extension": ".py",
   "mimetype": "text/x-python",
   "name": "python",
   "nbconvert_exporter": "python",
   "pygments_lexer": "ipython3",
   "version": "3.7.3"
  }
 },
 "nbformat": 4,
 "nbformat_minor": 4
}
